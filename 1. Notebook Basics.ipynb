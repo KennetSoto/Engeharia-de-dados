{
 "cells": [
  {
   "cell_type": "markdown",
   "metadata": {
    "application/vnd.databricks.v1+cell": {
     "cellMetadata": {},
     "inputWidgets": {},
     "nuid": "1b48fa36-7860-4688-9f42-9b936de41139",
     "showTitle": false,
     "title": ""
    }
   },
   "source": [
    "\n",
    "<div style=\"text-align: center; line-height: 0; padding-top: 9px;\">\n",
    "  <img src=\"https://moodle.df.senac.br/faculdade/pluginfile.php/1/theme_lambda/logo/1716924091/Logo-SENAC-PNG.png\" style=\"width: 300px; height: 150px\">\n",
    "</div>"
   ]
  },
  {
   "cell_type": "markdown",
   "metadata": {
    "application/vnd.databricks.v1+cell": {
     "cellMetadata": {},
     "inputWidgets": {},
     "nuid": "69ec8fe3-165a-459d-b6ec-0661d755f056",
     "showTitle": false,
     "title": "--i18n-2d4e57a0-a2d5-4fad-80eb-98ff30d09a37"
    }
   },
   "source": [
    "# Notebook Basics\n",
    "\n",
    "Notebook é o meio em que se desenvolve e executa código interativo em diversas ferramentas para engenharia de dados, inclusive o Databricks.\n",
    "\n",
    "Vamos iniciar nosso trabalho com o um estudo básico sobre funcionamento desse ambiente de desenvolvimento.\n",
    "\n",
    "Notebooks permitem execução de código \"célula a célula\" e múltiplas linguagens podem ser mescladas. Você pode plotar gráficos, adicionar imagens e textos para melhorar teu código.\n",
    "\n",
    "No ambiente Databricks torna-se uma ferramenta robusta que provê exploração de dados, _reporting_ e _dashboarding_ e que pode ser facilmente implantada (_deploy_) como código produtivo.\n"
   ]
  },
  {
   "cell_type": "markdown",
   "metadata": {
    "application/vnd.databricks.v1+cell": {
     "cellMetadata": {},
     "inputWidgets": {},
     "nuid": "c6876a02-9207-4c36-ad1a-135aadf1e461",
     "showTitle": false,
     "title": "--i18n-23aed87f-d375-4b81-8c3c-d4375cda0384"
    }
   },
   "source": [
    "### Executando uma célula\n",
    "* Para executar uma célula, você pode:\n",
    "  * **CTRL+ENTER** para executar apenas a célula atual\n",
    "  * **SHIFT+ENTER** para executar a célula atual e mover para a próxima\n",
    "  * Usar **Run Cell**, **Run All Above** ou **Run All Below** no canto superior esquerdo da célula"
   ]
  },
  {
   "cell_type": "code",
   "execution_count": 0,
   "metadata": {
    "application/vnd.databricks.v1+cell": {
     "cellMetadata": {
      "byteLimit": 2048000,
      "rowLimit": 10000
     },
     "inputWidgets": {},
     "nuid": "19bccb8b-2887-4ece-b0d9-24a074633e73",
     "showTitle": false,
     "title": ""
    }
   },
   "outputs": [],
   "source": [
    "print(\"Sou engenheiro de dados!\")"
   ]
  },
  {
   "cell_type": "markdown",
   "metadata": {
    "application/vnd.databricks.v1+cell": {
     "cellMetadata": {},
     "inputWidgets": {},
     "nuid": "1d8e62eb-ba75-409e-a5fc-0e0a16ebb3c6",
     "showTitle": false,
     "title": "--i18n-9be4ac54-8411-45a0-ad77-7173ec7402f8"
    }
   },
   "source": [
    "\n",
    "### Configurando o idioma do Notebook\n",
    "\n",
    "A célula acima/anterior executou um comando em Python, pois a linguagem deste notebook está configurada para Python.\n",
    "\n",
    "Notebooks no Databricks suportam Python, SQL, Scala e R. A linguagem de programação pode ser selecionada quando um notebook é criado ou pode ser mudada a qualquer momento.\n",
    "\n",
    "A linguagem padrão aparece no topo do Notebook, à direita do título. Vamos trabalhar com Python e SQL nas nossas atividades.\n",
    "\n",
    "No canto superior direito da célula, você também pode mudar a linguagem apenas da mesma."
   ]
  },
  {
   "cell_type": "markdown",
   "metadata": {
    "application/vnd.databricks.v1+cell": {
     "cellMetadata": {},
     "inputWidgets": {},
     "nuid": "ab3b056a-9069-4cc1-83a2-1057e66669ce",
     "showTitle": false,
     "title": "--i18n-3185e9b5-fcba-40aa-916b-5f3daa555cf5"
    }
   },
   "source": [
    "\n",
    "### Criando e executando uma célula\n",
    "\n",
    "\n",
    "* Selecione essa célula e tecle a letra **B** no teclado para criar uma nova célula abaixo dessa. Para criar uma célula acima, tecle **A**\n",
    "* Copie o seguinte código e execute a célula\n",
    "\n",
    "`%sql`\n",
    "\n",
    "`SELECT \"Estou executando a melhor linguagem: SQL! Nunca muda, nunca morre!\" as coluna`\n",
    "\n",
    "Há diferentes métodos para adicionar, mover ou deletar células. Para mais informações: <a href=\"https://docs.databricks.com/notebooks/notebooks-use.html#develop-notebooks\" target=\"_blank\">Notebooks</a>."
   ]
  },
  {
   "cell_type": "code",
   "execution_count": 0,
   "metadata": {
    "application/vnd.databricks.v1+cell": {
     "cellMetadata": {
      "byteLimit": 2048000,
      "implicitDf": true,
      "rowLimit": 10000
     },
     "inputWidgets": {},
     "nuid": "78711624-9ab4-441e-8e8f-e498b6df89d7",
     "showTitle": false,
     "title": ""
    }
   },
   "outputs": [],
   "source": [
    "%sql\n",
    "\n",
    "SELECT \"Estou executando a melhor linguagem: SQL! Nunca muda, nunca morre!\" as coluna"
   ]
  },
  {
   "cell_type": "markdown",
   "metadata": {
    "application/vnd.databricks.v1+cell": {
     "cellMetadata": {},
     "inputWidgets": {},
     "nuid": "4b41f220-0562-418f-9215-a4b10db4e5b0",
     "showTitle": false,
     "title": "--i18n-5046f81c-cdbf-42c3-9b39-3be0721d837e"
    }
   },
   "source": [
    "## Comandos mágicos\n",
    "* Os comandos mágicos são específicos para Notebooks no Databricks\n",
    "* Há comandos mágicos em outros produtos similiares ao Notebooks da Databricks\n",
    "* São comandos que possuem a mesma saída, independente da linguagem padrão do notebook\n",
    "* O símbolo de percentual (_%_) no começo da célula identifica o comando mágico\n",
    "  * Você só pode ter um comando mágico por célula\n",
    "  * O comando mágico deve ser a primeira linha da célula"
   ]
  },
  {
   "cell_type": "markdown",
   "metadata": {
    "application/vnd.databricks.v1+cell": {
     "cellMetadata": {},
     "inputWidgets": {},
     "nuid": "1420fdf2-efb7-4393-863f-ece5d69645de",
     "showTitle": false,
     "title": "--i18n-39d2c50e-4b92-46ef-968c-f358114685be"
    }
   },
   "source": [
    "\n",
    "### Comandos mágicos de linguagem\n",
    "Comandos mágicos de linguagem permitem a execução de código em linguagens diferentes da padrão do notebook.\n",
    "\n",
    "* <strong><code>&#37;python</code></strong>\n",
    "* <strong><code>&#37;sql</code></strong>\n",
    "\n",
    "Adicionar o comando mágico da linguagem em toda célula de notebook não é necessário, apenas quando a célula tiver comandos de outra linguagem.\n",
    "\n",
    "Quando mudamos a linguagem padrão do notebook, o tipo da linguagem da célula é automaticamente ajustado.\n"
   ]
  },
  {
   "cell_type": "markdown",
   "metadata": {
    "application/vnd.databricks.v1+cell": {
     "cellMetadata": {},
     "inputWidgets": {},
     "nuid": "14b57032-4a19-4ec7-b601-d5a83ee39987",
     "showTitle": false,
     "title": "--i18n-94da1696-d0cf-418f-ba5a-d105a5ecdaac"
    }
   },
   "source": [
    "\n",
    "### Markdown\n",
    "\n",
    "O comando mágico **&percnt;md** permite que seja escrito Markdown em uma célula:\n",
    "* Clique duas vezes nesta célula para editá-la\n",
    "* Aperte **`Esc`** ou **<code>CTRL+ENTER</code>** para sair da edição\n",
    "\n",
    "# Título 1\n",
    "## Título 2\n",
    "### Título 3\n",
    "\n",
    "Lorem ipsum dolor sit amet, consectetur adipiscing elit, sed do eiusmod tempor incididunt ut labore et dolore magna aliqua.\n",
    "\n",
    "Lorem ipsum dolor sit amet, **consectetur adipiscing** elit, sed do eiusmod tempor <strong>incididunt ut labore et dolore magna aliqua</strong>.\n",
    "\n",
    "Lorem ipsum dolor sit amet, _consectetur adipiscing_ elit, sed do eiusmod tempor <strong>_incididunt ut labore et dolore magna aliqua_</strong>.\n",
    "\n",
    "Lista ordenada\n",
    "1. Um\n",
    "1. Dois\n",
    "1. Três\n",
    "\n",
    "Lista não ordenada\n",
    "* Laranja\n",
    "* Kiwi\n",
    "* Pêra\n",
    "\n",
    "De onde surgiu? <a href=\"https://en.wikipedia.org/wiki/Markdown\" target=\"_blank\">Markdown - Wikipedia</a>\n",
    "\n",
    "Imagens:\n",
    "![Spark Engines](https://upload.wikimedia.org/wikipedia/commons/thumb/f/f3/Apache_Spark_logo.svg/320px-Apache_Spark_logo.svg.png)\n",
    "\n",
    "Tabelas:\n",
    "\n",
    "| name   | value |\n",
    "|--------|-------|\n",
    "| João     | 1     |\n",
    "| Maria    | 2     |\n",
    "| José | 3     |"
   ]
  },
  {
   "cell_type": "markdown",
   "metadata": {
    "application/vnd.databricks.v1+cell": {
     "cellMetadata": {},
     "inputWidgets": {},
     "nuid": "fd81f70c-9de2-4022-b2a0-a3f4bf75f91d",
     "showTitle": false,
     "title": "--i18n-537e86bc-782f-4167-9899-edb3bd2b9e38"
    }
   },
   "source": [
    "\n",
    "### %run\n",
    "* Você pode executar um notebook a partir de outro usando o comando **`%run`**\n",
    "* Notebooks devem ser especificados usando caminho relativo\n",
    "* O notebook referenciado é executado como se fosse parte do notebook corrrente. Então variáveis e _views_ temporárias estarão disponíveis no notebook chamador"
   ]
  },
  {
   "cell_type": "markdown",
   "metadata": {
    "application/vnd.databricks.v1+cell": {
     "cellMetadata": {},
     "inputWidgets": {},
     "nuid": "44f47e10-7dd8-4452-b4f8-c1f0ee18a3a6",
     "showTitle": false,
     "title": ""
    }
   },
   "source": [
    "Exemplo para dar erro (não teve a tmp_vw criada antes):"
   ]
  },
  {
   "cell_type": "code",
   "execution_count": 0,
   "metadata": {
    "application/vnd.databricks.v1+cell": {
     "cellMetadata": {},
     "inputWidgets": {},
     "nuid": "71d8c7b4-c632-49cb-8160-18c684275727",
     "showTitle": false,
     "title": ""
    }
   },
   "outputs": [],
   "source": [
    "%sql\n",
    "SELECT * FROM tmp_vw"
   ]
  },
  {
   "cell_type": "markdown",
   "metadata": {
    "application/vnd.databricks.v1+cell": {
     "cellMetadata": {},
     "inputWidgets": {},
     "nuid": "478bd7e3-b4c0-49ce-b773-3d6ebee98993",
     "showTitle": false,
     "title": "--i18n-d0df4a17-abb4-42d3-ba37-c9a78f4fc9c0"
    }
   },
   "source": [
    "\n",
    "\n",
    "Execute a célula abaixo para executar o notebook e criar a tabela"
   ]
  },
  {
   "cell_type": "code",
   "execution_count": 0,
   "metadata": {
    "application/vnd.databricks.v1+cell": {
     "cellMetadata": {
      "byteLimit": 2048000,
      "rowLimit": 10000
     },
     "inputWidgets": {},
     "nuid": "ab063f82-34c4-4b0b-897b-d3c50834864d",
     "showTitle": false,
     "title": ""
    }
   },
   "outputs": [],
   "source": [
    "%run \"./Include/Exemplo Include\""
   ]
  },
  {
   "cell_type": "code",
   "execution_count": 0,
   "metadata": {
    "application/vnd.databricks.v1+cell": {
     "cellMetadata": {
      "byteLimit": 2048000,
      "rowLimit": 10000
     },
     "inputWidgets": {},
     "nuid": "f61b5306-807e-4870-862e-e80e2cd425ca",
     "showTitle": false,
     "title": ""
    }
   },
   "outputs": [],
   "source": [
    "_create_tmp_vw()"
   ]
  },
  {
   "cell_type": "markdown",
   "metadata": {
    "application/vnd.databricks.v1+cell": {
     "cellMetadata": {},
     "inputWidgets": {},
     "nuid": "e9f464a7-a0d6-4aa8-a108-709996b916dd",
     "showTitle": false,
     "title": "--i18n-6a001755-5259-4fef-a5d3-2661d5301237"
    }
   },
   "source": [
    "\n",
    "\n",
    "O notebook **`\"./Include/Exemplo Include\"`** possui uma função chamada `_create_tmp_vw()` que cria uma tabela temporária que pode ser referenciada neste notebook.\n",
    "\n",
    "Caso o nome do notebook referenciado contenha espaços, o caminho deve vir entre aspas"
   ]
  },
  {
   "cell_type": "code",
   "execution_count": 0,
   "metadata": {
    "application/vnd.databricks.v1+cell": {
     "cellMetadata": {
      "byteLimit": 2048000,
      "implicitDf": true,
      "rowLimit": 10000
     },
     "inputWidgets": {},
     "nuid": "6d6a6fd6-c742-497c-ac47-35008bc8a6f3",
     "showTitle": false,
     "title": ""
    }
   },
   "outputs": [],
   "source": [
    "%sql \n",
    "SELECT * FROM tmp_vw"
   ]
  },
  {
   "cell_type": "markdown",
   "metadata": {
    "application/vnd.databricks.v1+cell": {
     "cellMetadata": {},
     "inputWidgets": {},
     "nuid": "fc4cc6f4-97df-4db3-b89c-1b15bbcc4021",
     "showTitle": false,
     "title": "--i18n-8330ad3c-8d48-42fa-9b6f-72e818426ed4"
    }
   },
   "source": [
    "\n",
    "## Utilitários Databricks\n",
    "Notebooks Databricks incluem um utilitário chamado **`dbutils`** que contém uma série de comandos que ajudam a configurar e interagir com o ambiente, principalmente com arquivos: <a href=\"https://docs.databricks.com/user-guide/dev-tools/dbutils.html\" target=\"_blank\">dbutils</a>\n"
   ]
  },
  {
   "cell_type": "code",
   "execution_count": 0,
   "metadata": {
    "application/vnd.databricks.v1+cell": {
     "cellMetadata": {
      "byteLimit": 2048000,
      "rowLimit": 10000
     },
     "inputWidgets": {},
     "nuid": "130351a5-433d-4cdc-9613-41990c2289a1",
     "showTitle": false,
     "title": ""
    }
   },
   "outputs": [],
   "source": [
    "dbutils.fs.ls('/')"
   ]
  },
  {
   "cell_type": "markdown",
   "metadata": {
    "application/vnd.databricks.v1+cell": {
     "cellMetadata": {},
     "inputWidgets": {},
     "nuid": "a0e3c5ef-f0c7-4f07-9fb5-3b92ffe8ecb5",
     "showTitle": false,
     "title": "--i18n-25eb75f8-6e75-41a6-a304-d140844fa3e6"
    }
   },
   "source": [
    "\n",
    "## display()\n",
    "\n",
    "Quando se executam consultas SQL das células de notebooks, resultados são sempre mostrados em formato tabular.\n",
    "\n",
    "Para obter o mesmo resultado quando se executam células Python, pode-se se usar **`display`**\n",
    "\n"
   ]
  },
  {
   "cell_type": "code",
   "execution_count": 0,
   "metadata": {
    "application/vnd.databricks.v1+cell": {
     "cellMetadata": {
      "byteLimit": 2048000,
      "rowLimit": 10000
     },
     "inputWidgets": {},
     "nuid": "89ac7685-9968-4ff5-8a8e-5c91b7a1fe97",
     "showTitle": false,
     "title": ""
    }
   },
   "outputs": [],
   "source": [
    "display(dbutils.fs.ls('/'))"
   ]
  },
  {
   "cell_type": "markdown",
   "metadata": {
    "application/vnd.databricks.v1+cell": {
     "cellMetadata": {},
     "inputWidgets": {},
     "nuid": "6bb861f1-6b5e-47f7-8d50-6a87ccddf46e",
     "showTitle": false,
     "title": "--i18n-42b624ff-8cc9-4318-bedc-e3b340cb1b81"
    }
   },
   "source": [
    "\n",
    "O comando **`display()`** possui as seguintes capacidades e limitações:\n",
    "* Pré-visualização de resultados limitados a 10 mil inhas ou 2 MB, o que for menor\n",
    "* Os resultados podem ser baixados em CSV\n"
   ]
  },
  {
   "cell_type": "markdown",
   "metadata": {
    "application/vnd.databricks.v1+cell": {
     "cellMetadata": {},
     "inputWidgets": {},
     "nuid": "2383552f-1a84-4fa9-a5f6-bf8bc051779e",
     "showTitle": false,
     "title": "--i18n-c7f02dde-9b21-4edb-bded-5ce0eed56d03"
    }
   },
   "source": [
    "\n",
    "## Baixando Notebooks\n",
    "\n",
    "\n",
    "* No canto esquerdo do notebook, clique no menu **File**\n",
    "* No menu que aparecer, selecione **Export** > **Source file**\n",
    "\n",
    "Códigos-fonte podem ser usados em qualquer workspace Databricks\n"
   ]
  },
  {
   "cell_type": "markdown",
   "metadata": {
    "application/vnd.databricks.v1+cell": {
     "cellMetadata": {},
     "inputWidgets": {},
     "nuid": "0d2592b9-70ec-4840-85cf-8dd05bf44fc9",
     "showTitle": false,
     "title": "--i18n-30e63e01-ca85-461a-b980-ea401904731f"
    }
   },
   "source": [
    "\n",
    "## Leia mais\n",
    "\n",
    "* <a href=\"https://docs.databricks.com/user-guide/index.html#user-guide\" target=\"_blank\">User Guide</a>\n",
    "* <a href=\"https://docs.databricks.com/user-guide/getting-started.html\" target=\"_blank\">Getting Started with Databricks</a>\n",
    "* <a href=\"https://docs.databricks.com/user-guide/notebooks/index.html\" target=\"_blank\">User Guide / Notebooks</a>\n",
    "* <a href=\"https://docs.databricks.com/notebooks/notebooks-manage.html#notebook-external-formats\" target=\"_blank\">Importing notebooks - Supported Formats</a>\n",
    "* <a href=\"https://docs.databricks.com/repos/index.html\" target=\"_blank\">Repos</a>\n",
    "* <a href=\"https://docs.databricks.com/administration-guide/index.html#administration-guide\" target=\"_blank\">Administration Guide</a>\n",
    "* <a href=\"https://docs.databricks.com/user-guide/clusters/index.html\" target=\"_blank\">Cluster Configuration</a>\n",
    "* <a href=\"https://docs.databricks.com/api/latest/index.html#rest-api-2-0\" target=\"_blank\">REST API</a>\n"
   ]
  }
 ],
 "metadata": {
  "application/vnd.databricks.v1+notebook": {
   "dashboards": [],
   "environmentMetadata": null,
   "language": "python",
   "notebookMetadata": {
    "mostRecentlyExecutedCommandWithImplicitDF": {
     "commandId": 338097625564205,
     "dataframes": [
      "_sqldf"
     ]
    },
    "pythonIndentUnit": 4
   },
   "notebookName": "1. Notebook Basics",
   "widgets": {}
  }
 },
 "nbformat": 4,
 "nbformat_minor": 0
}
