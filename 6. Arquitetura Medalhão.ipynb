{
 "cells": [
  {
   "cell_type": "markdown",
   "metadata": {
    "application/vnd.databricks.v1+cell": {
     "cellMetadata": {},
     "inputWidgets": {},
     "nuid": "0a9b1829-0c30-4bcb-805a-d34af975d3fa",
     "showTitle": false,
     "title": ""
    }
   },
   "source": [
    "\n",
    "<div style=\"text-align: center; line-height: 0; padding-top: 9px;\">\n",
    "  <img src=\"https://moodle.df.senac.br/faculdade/pluginfile.php/1/theme_lambda/logo/1716924091/Logo-SENAC-PNG.png\" style=\"width: 300px; height: 150px\">\n",
    "</div>"
   ]
  },
  {
   "cell_type": "markdown",
   "metadata": {
    "application/vnd.databricks.v1+cell": {
     "cellMetadata": {},
     "inputWidgets": {},
     "nuid": "e981a421-57bb-4844-8eb0-026757a485e2",
     "showTitle": false,
     "title": ""
    }
   },
   "source": [
    "\n",
    "## Arquitetura Medalhão\n",
    "\n",
    "A <a href='https://www.databricks.com/glossary/medallion-architecture' target='_blank'>arquitetura medalhão</a> é um padrão de design de dados usado para organizar logicamente os dados em um _lakehouse_, com o objetivo de melhorar de forma incremental e progressiva a estrutura e a qualidade dos dados à medida que fluem através de cada camada da arquitetura ( Bronze > Silver > Gold) . As arquiteturas Medalhão também são chamadas de arquiteturas <a href='https://www.linkedin.com/pulse/multi-hop-data-architecture-addiction-rick-van-der-lans-5xuke/' tagert='_blank'>_multi-hop_</a>.\n",
    "\n",
    "![Medallion](https://www.databricks.com/sites/default/files/inline-images/building-data-pipelines-with-delta-lake-120823.png?v=1702318922)"
   ]
  },
  {
   "cell_type": "markdown",
   "metadata": {
    "application/vnd.databricks.v1+cell": {
     "cellMetadata": {},
     "inputWidgets": {},
     "nuid": "aa816b3f-e987-4103-b990-265b05f226cd",
     "showTitle": false,
     "title": ""
    }
   },
   "source": [
    "### Criando tabelas para persistir nossos dados transformados\n",
    "\n",
    "Com base na arquitetura medalhão, vamos evoluir nossos dados por três camadas. E para cada camada, vamos criar suas respectivas tabelas.\n",
    "\n",
    "Para se criar uma tabela, o comando <a href='https://docs.databricks.com/en/sql/language-manual/sql-ref-syntax-ddl-create-table-using.html' target='_blank'>CREATE TABLE</a> pode ser usado. \n"
   ]
  },
  {
   "cell_type": "markdown",
   "metadata": {
    "application/vnd.databricks.v1+cell": {
     "cellMetadata": {},
     "inputWidgets": {},
     "nuid": "5ef16643-04d0-4b79-9e69-4328755e3aed",
     "showTitle": false,
     "title": ""
    }
   },
   "source": [
    "### Bronze\n",
    "Na camada *bronze* os dados são carregados de forma _raw_, assim como estão na origem:"
   ]
  },
  {
   "cell_type": "code",
   "execution_count": 0,
   "metadata": {
    "application/vnd.databricks.v1+cell": {
     "cellMetadata": {
      "byteLimit": 2048000,
      "implicitDf": true,
      "rowLimit": 10000
     },
     "inputWidgets": {},
     "nuid": "3efdd608-1639-4fa4-bd2c-062357a570ed",
     "showTitle": false,
     "title": ""
    }
   },
   "outputs": [
    {
     "output_type": "display_data",
     "data": {
      "text/html": [
       "<style scoped>\n",
       "  .table-result-container {\n",
       "    max-height: 300px;\n",
       "    overflow: auto;\n",
       "  }\n",
       "  table, th, td {\n",
       "    border: 1px solid black;\n",
       "    border-collapse: collapse;\n",
       "  }\n",
       "  th, td {\n",
       "    padding: 5px;\n",
       "  }\n",
       "  th {\n",
       "    text-align: left;\n",
       "  }\n",
       "</style><div class='table-result-container'><table class='table-result'><thead style='background-color: white'><tr><th>nome</th><th>valor</th><th>tipo</th></tr></thead><tbody><tr><td>João</td><td>1</td><td>t1|t2|t3</td></tr><tr><td>Maria</td><td>2</td><td>t2|t5</td></tr></tbody></table></div>"
      ]
     },
     "metadata": {
      "application/vnd.databricks.v1+output": {
       "addedWidgets": {},
       "aggData": [],
       "aggError": "",
       "aggOverflow": false,
       "aggSchema": [],
       "aggSeriesLimitReached": false,
       "aggType": "",
       "arguments": {},
       "columnCustomDisplayInfos": {},
       "data": [
        [
         "João",
         1,
         "t1|t2|t3"
        ],
        [
         "Maria",
         2,
         "t2|t5"
        ]
       ],
       "datasetInfos": [],
       "dbfsResultPath": null,
       "isJsonSchema": true,
       "metadata": {},
       "overflow": false,
       "plotOptions": {
        "customPlotOptions": {},
        "displayType": "table",
        "pivotAggregation": null,
        "pivotColumns": null,
        "xColumns": null,
        "yColumns": null
       },
       "removedWidgets": [],
       "schema": [
        {
         "metadata": "{}",
         "name": "nome",
         "type": "\"string\""
        },
        {
         "metadata": "{}",
         "name": "valor",
         "type": "\"integer\""
        },
        {
         "metadata": "{}",
         "name": "tipo",
         "type": "\"string\""
        }
       ],
       "type": "table"
      }
     },
     "output_type": "display_data"
    }
   ],
   "source": [
    "%sql\n",
    "CREATE OR REPLACE TABLE exemplo_bronze (nome STRING, valor INT, tipo STRING) ;\n",
    "INSERT INTO exemplo_bronze \n",
    "VALUES (\"João\", 1 , \"t1|t2|t3\"),\n",
    "(\"Maria\", 2, \"t2|t5\");\n",
    "\n",
    "DESCRIBE extended exemplo_bronze;\n",
    "\n",
    "SELECT * FROM exemplo_bronze;"
   ]
  },
  {
   "cell_type": "markdown",
   "metadata": {
    "application/vnd.databricks.v1+cell": {
     "cellMetadata": {},
     "inputWidgets": {},
     "nuid": "cfb62bbb-b453-41e6-9bcd-8390abbc7f79",
     "showTitle": false,
     "title": ""
    }
   },
   "source": [
    "No comando acima, uma tabela foi criada no _schema default_. Navegue no catálogo e verifique a tabela.\n",
    "\n",
    "Você pode inserir dados em uma tabela com base em uma consulta. Veja:\n"
   ]
  },
  {
   "cell_type": "code",
   "execution_count": 0,
   "metadata": {
    "application/vnd.databricks.v1+cell": {
     "cellMetadata": {
      "byteLimit": 2048000,
      "implicitDf": true,
      "rowLimit": 10000
     },
     "inputWidgets": {},
     "nuid": "839b009b-a480-4785-9266-643ef4f325a6",
     "showTitle": false,
     "title": ""
    }
   },
   "outputs": [
    {
     "output_type": "display_data",
     "data": {
      "text/html": [
       "<style scoped>\n",
       "  .table-result-container {\n",
       "    max-height: 300px;\n",
       "    overflow: auto;\n",
       "  }\n",
       "  table, th, td {\n",
       "    border: 1px solid black;\n",
       "    border-collapse: collapse;\n",
       "  }\n",
       "  th, td {\n",
       "    padding: 5px;\n",
       "  }\n",
       "  th {\n",
       "    text-align: left;\n",
       "  }\n",
       "</style><div class='table-result-container'><table class='table-result'><thead style='background-color: white'><tr><th>nome</th><th>valor</th><th>tipo</th></tr></thead><tbody><tr><td>José</td><td>3</td><td>t1|t2|t3|t7</td></tr><tr><td>José</td><td>7</td><td>t3|t7</td></tr><tr><td>João</td><td>1</td><td>t1|t2|t3</td></tr><tr><td>Maria</td><td>2</td><td>t2|t5</td></tr></tbody></table></div>"
      ]
     },
     "metadata": {
      "application/vnd.databricks.v1+output": {
       "addedWidgets": {},
       "aggData": [],
       "aggError": "",
       "aggOverflow": false,
       "aggSchema": [],
       "aggSeriesLimitReached": false,
       "aggType": "",
       "arguments": {},
       "columnCustomDisplayInfos": {},
       "data": [
        [
         "José",
         3,
         "t1|t2|t3|t7"
        ],
        [
         "José",
         7,
         "t3|t7"
        ],
        [
         "João",
         1,
         "t1|t2|t3"
        ],
        [
         "Maria",
         2,
         "t2|t5"
        ]
       ],
       "datasetInfos": [],
       "dbfsResultPath": null,
       "isJsonSchema": true,
       "metadata": {},
       "overflow": false,
       "plotOptions": {
        "customPlotOptions": {},
        "displayType": "table",
        "pivotAggregation": null,
        "pivotColumns": null,
        "xColumns": null,
        "yColumns": null
       },
       "removedWidgets": [],
       "schema": [
        {
         "metadata": "{}",
         "name": "nome",
         "type": "\"string\""
        },
        {
         "metadata": "{}",
         "name": "valor",
         "type": "\"integer\""
        },
        {
         "metadata": "{}",
         "name": "tipo",
         "type": "\"string\""
        }
       ],
       "type": "table"
      }
     },
     "output_type": "display_data"
    }
   ],
   "source": [
    "%sql\n",
    "INSERT INTO exemplo_bronze\n",
    "select * from VALUES (\"José\", 3, \"t1|t2|t3|t7\") , (\"José\", 7, \"t3|t7\");\n",
    "\n",
    "select * from exemplo_bronze;"
   ]
  },
  {
   "cell_type": "markdown",
   "metadata": {
    "application/vnd.databricks.v1+cell": {
     "cellMetadata": {},
     "inputWidgets": {},
     "nuid": "46fb1d7c-815e-422f-99b4-9a3ef15249ba",
     "showTitle": false,
     "title": ""
    }
   },
   "source": [
    "### Silver\n",
    "Na camada _silver_ realizamos algumas transformações, limpeza e tratamento nos dados, assim, cientistas de dados e analistas de dados já podem começar a trabalhá-los.\n",
    "\n",
    "A camada _silver_ é alimentada pela camada _bronze_."
   ]
  },
  {
   "cell_type": "code",
   "execution_count": 0,
   "metadata": {
    "application/vnd.databricks.v1+cell": {
     "cellMetadata": {
      "byteLimit": 2048000,
      "implicitDf": true,
      "rowLimit": 10000
     },
     "inputWidgets": {},
     "nuid": "cc8b1ef4-0ace-409b-bb73-10296a3cfec3",
     "showTitle": false,
     "title": ""
    }
   },
   "outputs": [
    {
     "output_type": "display_data",
     "data": {
      "text/html": [
       "<style scoped>\n",
       "  .table-result-container {\n",
       "    max-height: 300px;\n",
       "    overflow: auto;\n",
       "  }\n",
       "  table, th, td {\n",
       "    border: 1px solid black;\n",
       "    border-collapse: collapse;\n",
       "  }\n",
       "  th, td {\n",
       "    padding: 5px;\n",
       "  }\n",
       "  th {\n",
       "    text-align: left;\n",
       "  }\n",
       "</style><div class='table-result-container'><table class='table-result'><thead style='background-color: white'><tr><th>nome</th><th>valor</th><th>tipo</th></tr></thead><tbody><tr><td>João</td><td>1</td><td>t1</td></tr><tr><td>João</td><td>1</td><td>t2</td></tr><tr><td>João</td><td>1</td><td>t3</td></tr><tr><td>Maria</td><td>2</td><td>t2</td></tr><tr><td>Maria</td><td>2</td><td>t5</td></tr><tr><td>José</td><td>3</td><td>t1</td></tr><tr><td>José</td><td>3</td><td>t2</td></tr><tr><td>José</td><td>3</td><td>t3</td></tr><tr><td>José</td><td>3</td><td>t7</td></tr><tr><td>José</td><td>7</td><td>t3</td></tr><tr><td>José</td><td>7</td><td>t7</td></tr></tbody></table></div>"
      ]
     },
     "metadata": {
      "application/vnd.databricks.v1+output": {
       "addedWidgets": {},
       "aggData": [],
       "aggError": "",
       "aggOverflow": false,
       "aggSchema": [],
       "aggSeriesLimitReached": false,
       "aggType": "",
       "arguments": {},
       "columnCustomDisplayInfos": {},
       "data": [
        [
         "João",
         1,
         "t1"
        ],
        [
         "João",
         1,
         "t2"
        ],
        [
         "João",
         1,
         "t3"
        ],
        [
         "Maria",
         2,
         "t2"
        ],
        [
         "Maria",
         2,
         "t5"
        ],
        [
         "José",
         3,
         "t1"
        ],
        [
         "José",
         3,
         "t2"
        ],
        [
         "José",
         3,
         "t3"
        ],
        [
         "José",
         3,
         "t7"
        ],
        [
         "José",
         7,
         "t3"
        ],
        [
         "José",
         7,
         "t7"
        ]
       ],
       "datasetInfos": [],
       "dbfsResultPath": null,
       "isJsonSchema": true,
       "metadata": {},
       "overflow": false,
       "plotOptions": {
        "customPlotOptions": {},
        "displayType": "table",
        "pivotAggregation": null,
        "pivotColumns": null,
        "xColumns": null,
        "yColumns": null
       },
       "removedWidgets": [],
       "schema": [
        {
         "metadata": "{}",
         "name": "nome",
         "type": "\"string\""
        },
        {
         "metadata": "{}",
         "name": "valor",
         "type": "\"integer\""
        },
        {
         "metadata": "{}",
         "name": "tipo",
         "type": "\"string\""
        }
       ],
       "type": "table"
      }
     },
     "output_type": "display_data"
    }
   ],
   "source": [
    "%sql\n",
    "CREATE OR REPLACE TABLE exemplo_silver (nome STRING, valor INT, tipo STRING) ;\n",
    "\n",
    "INSERT INTO exemplo_silver \n",
    "SELECT nome, valor, explode(split(tipo , '\\\\\\|')) as tipo FROM exemplo_bronze;\n",
    "\n",
    "SELECT * FROM exemplo_silver;"
   ]
  },
  {
   "cell_type": "markdown",
   "metadata": {
    "application/vnd.databricks.v1+cell": {
     "cellMetadata": {},
     "inputWidgets": {},
     "nuid": "9ce830d5-bfc7-4c9c-8fb7-dbff1adf21cf",
     "showTitle": false,
     "title": ""
    }
   },
   "source": [
    "### Gold\n",
    "Na camada _gold_ trabalhamos o dado para ser melhor apresentado e explorado pelo usuário final, podemos criar visões por produto, _star schema_, _snowflake_, visões agregadas, etc.\n",
    "\n",
    "A camada _gold_ é alimentada pela camada _silver_."
   ]
  },
  {
   "cell_type": "code",
   "execution_count": 0,
   "metadata": {
    "application/vnd.databricks.v1+cell": {
     "cellMetadata": {
      "byteLimit": 2048000,
      "implicitDf": true,
      "rowLimit": 10000
     },
     "inputWidgets": {},
     "nuid": "4075a7f9-f6ae-4114-a1be-819d343a0674",
     "showTitle": false,
     "title": ""
    }
   },
   "outputs": [
    {
     "output_type": "display_data",
     "data": {
      "text/html": [
       "<style scoped>\n",
       "  .table-result-container {\n",
       "    max-height: 300px;\n",
       "    overflow: auto;\n",
       "  }\n",
       "  table, th, td {\n",
       "    border: 1px solid black;\n",
       "    border-collapse: collapse;\n",
       "  }\n",
       "  th, td {\n",
       "    padding: 5px;\n",
       "  }\n",
       "  th {\n",
       "    text-align: left;\n",
       "  }\n",
       "</style><div class='table-result-container'><table class='table-result'><thead style='background-color: white'><tr><th>nome</th><th>valor</th><th>tipo</th></tr></thead><tbody><tr><td>Maria</td><td>2</td><td>t2</td></tr><tr><td>José</td><td>3</td><td>t1</td></tr><tr><td>João</td><td>1</td><td>t3</td></tr><tr><td>João</td><td>1</td><td>t2</td></tr><tr><td>Maria</td><td>2</td><td>t5</td></tr><tr><td>João</td><td>1</td><td>t1</td></tr><tr><td>José</td><td>10</td><td>t3</td></tr><tr><td>José</td><td>10</td><td>t7</td></tr><tr><td>José</td><td>3</td><td>t2</td></tr></tbody></table></div>"
      ]
     },
     "metadata": {
      "application/vnd.databricks.v1+output": {
       "addedWidgets": {},
       "aggData": [],
       "aggError": "",
       "aggOverflow": false,
       "aggSchema": [],
       "aggSeriesLimitReached": false,
       "aggType": "",
       "arguments": {},
       "columnCustomDisplayInfos": {},
       "data": [
        [
         "Maria",
         2,
         "t2"
        ],
        [
         "José",
         3,
         "t1"
        ],
        [
         "João",
         1,
         "t3"
        ],
        [
         "João",
         1,
         "t2"
        ],
        [
         "Maria",
         2,
         "t5"
        ],
        [
         "João",
         1,
         "t1"
        ],
        [
         "José",
         10,
         "t3"
        ],
        [
         "José",
         10,
         "t7"
        ],
        [
         "José",
         3,
         "t2"
        ]
       ],
       "datasetInfos": [],
       "dbfsResultPath": null,
       "isJsonSchema": true,
       "metadata": {},
       "overflow": false,
       "plotOptions": {
        "customPlotOptions": {},
        "displayType": "table",
        "pivotAggregation": null,
        "pivotColumns": null,
        "xColumns": null,
        "yColumns": null
       },
       "removedWidgets": [],
       "schema": [
        {
         "metadata": "{}",
         "name": "nome",
         "type": "\"string\""
        },
        {
         "metadata": "{}",
         "name": "valor",
         "type": "\"integer\""
        },
        {
         "metadata": "{}",
         "name": "tipo",
         "type": "\"string\""
        }
       ],
       "type": "table"
      }
     },
     "output_type": "display_data"
    }
   ],
   "source": [
    "%sql\n",
    "CREATE OR REPLACE TABLE exemplo_gold (nome STRING, valor INT, tipo STRING) ;\n",
    "\n",
    "INSERT INTO exemplo_gold \n",
    "SELECT nome, sum(valor), tipo FROM exemplo_silver group by nome, tipo;\n",
    "--somando o valor dos dados em que os tipo sao iguais.\n",
    "SELECT * FROM exemplo_gold;"
   ]
  },
  {
   "cell_type": "markdown",
   "metadata": {
    "application/vnd.databricks.v1+cell": {
     "cellMetadata": {},
     "inputWidgets": {},
     "nuid": "72a38555-f0fb-4e61-96e7-9e673b55b39b",
     "showTitle": false,
     "title": ""
    }
   },
   "source": [
    "### Atividade\n",
    "\n",
    "Com base na tabela `exemplo_gold`, elabore uma consulta que faça um _pivot_ por tipo, totalizando (_sum_) a coluna `valor`. Agrupe também pela coluna `nome`."
   ]
  },
  {
   "cell_type": "code",
   "execution_count": 0,
   "metadata": {
    "application/vnd.databricks.v1+cell": {
     "cellMetadata": {
      "byteLimit": 2048000,
      "implicitDf": true,
      "rowLimit": 10000
     },
     "inputWidgets": {},
     "nuid": "1ee4b695-bdd3-48a9-b54f-402587f6fdfc",
     "showTitle": false,
     "title": ""
    }
   },
   "outputs": [
    {
     "output_type": "display_data",
     "data": {
      "text/html": [
       "<style scoped>\n",
       "  .table-result-container {\n",
       "    max-height: 300px;\n",
       "    overflow: auto;\n",
       "  }\n",
       "  table, th, td {\n",
       "    border: 1px solid black;\n",
       "    border-collapse: collapse;\n",
       "  }\n",
       "  th, td {\n",
       "    padding: 5px;\n",
       "  }\n",
       "  th {\n",
       "    text-align: left;\n",
       "  }\n",
       "</style><div class='table-result-container'><table class='table-result'><thead style='background-color: white'><tr><th>nome</th><th>t1</th><th>t2</th><th>t3</th><th>t5</th><th>t7</th></tr></thead><tbody><tr><td>José</td><td>3</td><td>3</td><td>10</td><td>null</td><td>10</td></tr><tr><td>João</td><td>1</td><td>1</td><td>1</td><td>null</td><td>null</td></tr><tr><td>Maria</td><td>null</td><td>2</td><td>null</td><td>2</td><td>null</td></tr></tbody></table></div>"
      ]
     },
     "metadata": {
      "application/vnd.databricks.v1+output": {
       "addedWidgets": {},
       "aggData": [],
       "aggError": "",
       "aggOverflow": false,
       "aggSchema": [],
       "aggSeriesLimitReached": false,
       "aggType": "",
       "arguments": {},
       "columnCustomDisplayInfos": {},
       "data": [
        [
         "José",
         3,
         3,
         10,
         null,
         10
        ],
        [
         "João",
         1,
         1,
         1,
         null,
         null
        ],
        [
         "Maria",
         null,
         2,
         null,
         2,
         null
        ]
       ],
       "datasetInfos": [],
       "dbfsResultPath": null,
       "isJsonSchema": true,
       "metadata": {},
       "overflow": false,
       "plotOptions": {
        "customPlotOptions": {},
        "displayType": "table",
        "pivotAggregation": null,
        "pivotColumns": null,
        "xColumns": null,
        "yColumns": null
       },
       "removedWidgets": [],
       "schema": [
        {
         "metadata": "{}",
         "name": "nome",
         "type": "\"string\""
        },
        {
         "metadata": "{}",
         "name": "t1",
         "type": "\"long\""
        },
        {
         "metadata": "{}",
         "name": "t2",
         "type": "\"long\""
        },
        {
         "metadata": "{}",
         "name": "t3",
         "type": "\"long\""
        },
        {
         "metadata": "{}",
         "name": "t5",
         "type": "\"long\""
        },
        {
         "metadata": "{}",
         "name": "t7",
         "type": "\"long\""
        }
       ],
       "type": "table"
      }
     },
     "output_type": "display_data"
    }
   ],
   "source": [
    "\n",
    "df = spark.sql(\"select * from exemplo_gold\")\n",
    "#df.show()\n",
    "df.groupBy('nome').pivot('tipo').sum('valor').display()"
   ]
  }
 ],
 "metadata": {
  "application/vnd.databricks.v1+notebook": {
   "dashboards": [],
   "environmentMetadata": null,
   "language": "python",
   "notebookMetadata": {
    "mostRecentlyExecutedCommandWithImplicitDF": {
     "commandId": -1,
     "dataframes": [
      "_sqldf"
     ]
    },
    "pythonIndentUnit": 4
   },
   "notebookName": "6. Arquitetura Medalhão",
   "widgets": {}
  }
 },
 "nbformat": 4,
 "nbformat_minor": 0
}
